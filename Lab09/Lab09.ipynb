{
 "cells": [
  {
   "cell_type": "code",
   "execution_count": 1,
   "metadata": {},
   "outputs": [],
   "source": [
    "from IPython.core.display import display, HTML"
   ]
  },
  {
   "cell_type": "code",
   "execution_count": 2,
   "metadata": {},
   "outputs": [
    {
     "data": {
      "text/html": [
       "<h1 style=\"text-align:center;\">MA 374 | Assignment 9</h1>"
      ],
      "text/plain": [
       "<IPython.core.display.HTML object>"
      ]
     },
     "metadata": {},
     "output_type": "display_data"
    },
    {
     "data": {
      "text/html": [
       "<h2 style=\"text-align:center;\">Deepak Kumar Gouda</h2>"
      ],
      "text/plain": [
       "<IPython.core.display.HTML object>"
      ]
     },
     "metadata": {},
     "output_type": "display_data"
    }
   ],
   "source": [
    "display(HTML('<h1 style=\"text-align:center;\">MA 374 | Assignment 9</h1>'))\n",
    "display(HTML('<h2 style=\"text-align:center;\">Deepak Kumar Gouda</h2>'))"
   ]
  },
  {
   "cell_type": "code",
   "execution_count": 3,
   "metadata": {},
   "outputs": [],
   "source": [
    "from pandas import read_csv, to_datetime\n",
    "import numpy as np\n",
    "from scipy.stats import norm"
   ]
  },
  {
   "cell_type": "code",
   "execution_count": 4,
   "metadata": {},
   "outputs": [],
   "source": [
    "from mpl_toolkits.mplot3d import Axes3D\n",
    "import matplotlib.pyplot as plt"
   ]
  },
  {
   "cell_type": "code",
   "execution_count": 5,
   "metadata": {},
   "outputs": [],
   "source": [
    "%matplotlib tk"
   ]
  },
  {
   "cell_type": "code",
   "execution_count": 6,
   "metadata": {},
   "outputs": [],
   "source": [
    "fields=['Expiry', 'Strike Price', 'Put Price', 'Call Price']\n",
    "orig_data = read_csv('NIFTYoptiondata.csv', usecols=fields, index_col=False)"
   ]
  },
  {
   "cell_type": "code",
   "execution_count": 7,
   "metadata": {},
   "outputs": [],
   "source": [
    "optionData = read_csv(\"NIFTYoptiondata.csv\")\n",
    "stockData = read_csv(\"./Data/nsedata1.csv\")\n",
    "optionData['Date2'] = to_datetime(optionData['Date'])\n",
    "stockData['Date2'] = to_datetime(stockData['Date'])\n",
    "stockData = stockData[['Date2','Close']]\n",
    "data = optionData.merge(stockData,on='Date2')"
   ]
  },
  {
   "cell_type": "code",
   "execution_count": 8,
   "metadata": {},
   "outputs": [
    {
     "data": {
      "text/html": [
       "<div>\n",
       "<style scoped>\n",
       "    .dataframe tbody tr th:only-of-type {\n",
       "        vertical-align: middle;\n",
       "    }\n",
       "\n",
       "    .dataframe tbody tr th {\n",
       "        vertical-align: top;\n",
       "    }\n",
       "\n",
       "    .dataframe thead th {\n",
       "        text-align: right;\n",
       "    }\n",
       "</style>\n",
       "<table border=\"1\" class=\"dataframe\">\n",
       "  <thead>\n",
       "    <tr style=\"text-align: right;\">\n",
       "      <th></th>\n",
       "      <th>Symbol</th>\n",
       "      <th>Date</th>\n",
       "      <th>Expiry</th>\n",
       "      <th>Strike Price</th>\n",
       "      <th>Put Price</th>\n",
       "      <th>Call Price</th>\n",
       "      <th>Date2</th>\n",
       "      <th>Close</th>\n",
       "    </tr>\n",
       "  </thead>\n",
       "  <tbody>\n",
       "    <tr>\n",
       "      <th>0</th>\n",
       "      <td>NIFTY</td>\n",
       "      <td>01-Jan-2014</td>\n",
       "      <td>30-Jan-2014</td>\n",
       "      <td>7800</td>\n",
       "      <td>1341.90</td>\n",
       "      <td>1.00</td>\n",
       "      <td>2014-01-01</td>\n",
       "      <td>6301.65</td>\n",
       "    </tr>\n",
       "    <tr>\n",
       "      <th>1</th>\n",
       "      <td>NIFTY</td>\n",
       "      <td>01-Jan-2014</td>\n",
       "      <td>30-Jan-2014</td>\n",
       "      <td>7550</td>\n",
       "      <td>1111.85</td>\n",
       "      <td>0.25</td>\n",
       "      <td>2014-01-01</td>\n",
       "      <td>6301.65</td>\n",
       "    </tr>\n",
       "    <tr>\n",
       "      <th>2</th>\n",
       "      <td>NIFTY</td>\n",
       "      <td>01-Jan-2014</td>\n",
       "      <td>30-Jan-2014</td>\n",
       "      <td>7850</td>\n",
       "      <td>1387.35</td>\n",
       "      <td>3.60</td>\n",
       "      <td>2014-01-01</td>\n",
       "      <td>6301.65</td>\n",
       "    </tr>\n",
       "    <tr>\n",
       "      <th>3</th>\n",
       "      <td>NIFTY</td>\n",
       "      <td>01-Jan-2014</td>\n",
       "      <td>30-Jan-2014</td>\n",
       "      <td>7700</td>\n",
       "      <td>1248.90</td>\n",
       "      <td>2.75</td>\n",
       "      <td>2014-01-01</td>\n",
       "      <td>6301.65</td>\n",
       "    </tr>\n",
       "    <tr>\n",
       "      <th>4</th>\n",
       "      <td>NIFTY</td>\n",
       "      <td>01-Jan-2014</td>\n",
       "      <td>30-Jan-2014</td>\n",
       "      <td>7250</td>\n",
       "      <td>849.65</td>\n",
       "      <td>1.55</td>\n",
       "      <td>2014-01-01</td>\n",
       "      <td>6301.65</td>\n",
       "    </tr>\n",
       "  </tbody>\n",
       "</table>\n",
       "</div>"
      ],
      "text/plain": [
       "  Symbol         Date       Expiry  Strike Price  Put Price  Call Price  \\\n",
       "0  NIFTY  01-Jan-2014  30-Jan-2014          7800    1341.90        1.00   \n",
       "1  NIFTY  01-Jan-2014  30-Jan-2014          7550    1111.85        0.25   \n",
       "2  NIFTY  01-Jan-2014  30-Jan-2014          7850    1387.35        3.60   \n",
       "3  NIFTY  01-Jan-2014  30-Jan-2014          7700    1248.90        2.75   \n",
       "4  NIFTY  01-Jan-2014  30-Jan-2014          7250     849.65        1.55   \n",
       "\n",
       "       Date2    Close  \n",
       "0 2014-01-01  6301.65  \n",
       "1 2014-01-01  6301.65  \n",
       "2 2014-01-01  6301.65  \n",
       "3 2014-01-01  6301.65  \n",
       "4 2014-01-01  6301.65  "
      ]
     },
     "execution_count": 8,
     "metadata": {},
     "output_type": "execute_result"
    }
   ],
   "source": [
    "data.head()"
   ]
  },
  {
   "cell_type": "code",
   "execution_count": 9,
   "metadata": {},
   "outputs": [],
   "source": [
    "numSample = 1000\n",
    "mask = np.random.randint(0, len(data), numSample)\n",
    "data = data.loc[mask]"
   ]
  },
  {
   "cell_type": "code",
   "execution_count": 10,
   "metadata": {},
   "outputs": [
    {
     "data": {
      "text/html": [
       "<div>\n",
       "<style scoped>\n",
       "    .dataframe tbody tr th:only-of-type {\n",
       "        vertical-align: middle;\n",
       "    }\n",
       "\n",
       "    .dataframe tbody tr th {\n",
       "        vertical-align: top;\n",
       "    }\n",
       "\n",
       "    .dataframe thead th {\n",
       "        text-align: right;\n",
       "    }\n",
       "</style>\n",
       "<table border=\"1\" class=\"dataframe\">\n",
       "  <thead>\n",
       "    <tr style=\"text-align: right;\">\n",
       "      <th></th>\n",
       "      <th>Symbol</th>\n",
       "      <th>Date</th>\n",
       "      <th>Expiry</th>\n",
       "      <th>Strike Price</th>\n",
       "      <th>Put Price</th>\n",
       "      <th>Call Price</th>\n",
       "      <th>Date2</th>\n",
       "      <th>Close</th>\n",
       "    </tr>\n",
       "  </thead>\n",
       "  <tbody>\n",
       "    <tr>\n",
       "      <th>13555</th>\n",
       "      <td>NIFTY</td>\n",
       "      <td>22-Jan-2014</td>\n",
       "      <td>29-Jun-2017</td>\n",
       "      <td>7700</td>\n",
       "      <td>425.05</td>\n",
       "      <td>2558.60</td>\n",
       "      <td>2014-01-22</td>\n",
       "      <td>6338.95</td>\n",
       "    </tr>\n",
       "    <tr>\n",
       "      <th>8256</th>\n",
       "      <td>NIFTY</td>\n",
       "      <td>14-Jan-2014</td>\n",
       "      <td>30-Jun-2016</td>\n",
       "      <td>4000</td>\n",
       "      <td>99.00</td>\n",
       "      <td>2612.45</td>\n",
       "      <td>2014-01-14</td>\n",
       "      <td>6241.85</td>\n",
       "    </tr>\n",
       "    <tr>\n",
       "      <th>42898</th>\n",
       "      <td>NIFTY</td>\n",
       "      <td>12-Mar-2014</td>\n",
       "      <td>28-Dec-2017</td>\n",
       "      <td>4200</td>\n",
       "      <td>0.85</td>\n",
       "      <td>3122.55</td>\n",
       "      <td>2014-03-12</td>\n",
       "      <td>6516.90</td>\n",
       "    </tr>\n",
       "    <tr>\n",
       "      <th>22185</th>\n",
       "      <td>NIFTY</td>\n",
       "      <td>05-Feb-2014</td>\n",
       "      <td>28-Dec-2017</td>\n",
       "      <td>6300</td>\n",
       "      <td>55.10</td>\n",
       "      <td>2868.90</td>\n",
       "      <td>2014-02-05</td>\n",
       "      <td>6022.40</td>\n",
       "    </tr>\n",
       "    <tr>\n",
       "      <th>18064</th>\n",
       "      <td>NIFTY</td>\n",
       "      <td>30-Jan-2014</td>\n",
       "      <td>30-Jan-2014</td>\n",
       "      <td>5500</td>\n",
       "      <td>0.05</td>\n",
       "      <td>1583.25</td>\n",
       "      <td>2014-01-30</td>\n",
       "      <td>6073.70</td>\n",
       "    </tr>\n",
       "  </tbody>\n",
       "</table>\n",
       "</div>"
      ],
      "text/plain": [
       "      Symbol         Date       Expiry  Strike Price  Put Price  Call Price  \\\n",
       "13555  NIFTY  22-Jan-2014  29-Jun-2017          7700     425.05     2558.60   \n",
       "8256   NIFTY  14-Jan-2014  30-Jun-2016          4000      99.00     2612.45   \n",
       "42898  NIFTY  12-Mar-2014  28-Dec-2017          4200       0.85     3122.55   \n",
       "22185  NIFTY  05-Feb-2014  28-Dec-2017          6300      55.10     2868.90   \n",
       "18064  NIFTY  30-Jan-2014  30-Jan-2014          5500       0.05     1583.25   \n",
       "\n",
       "           Date2    Close  \n",
       "13555 2014-01-22  6338.95  \n",
       "8256  2014-01-14  6241.85  \n",
       "42898 2014-03-12  6516.90  \n",
       "22185 2014-02-05  6022.40  \n",
       "18064 2014-01-30  6073.70  "
      ]
     },
     "execution_count": 10,
     "metadata": {},
     "output_type": "execute_result"
    }
   ],
   "source": [
    "data.head()"
   ]
  },
  {
   "cell_type": "code",
   "execution_count": 11,
   "metadata": {},
   "outputs": [
    {
     "data": {
      "text/plain": [
       "1000"
      ]
     },
     "execution_count": 11,
     "metadata": {},
     "output_type": "execute_result"
    }
   ],
   "source": [
    "len(data)"
   ]
  },
  {
   "cell_type": "code",
   "execution_count": 12,
   "metadata": {},
   "outputs": [],
   "source": [
    "import matplotlib.dates as mdates"
   ]
  },
  {
   "cell_type": "code",
   "execution_count": 13,
   "metadata": {},
   "outputs": [],
   "source": [
    "plot_data = orig_data[:numSample]"
   ]
  },
  {
   "cell_type": "code",
   "execution_count": 14,
   "metadata": {},
   "outputs": [],
   "source": [
    "def plotPrices(plot_data):\n",
    "    dates = to_datetime(plot_data['Expiry'])\n",
    "    x = to_datetime(dates)\n",
    "    x = mdates.date2num(x)\n",
    "\n",
    "    y = plot_data['Strike Price']\n",
    "    z_call = plot_data['Call Price']\n",
    "    z_put = plot_data['Put Price']\n",
    "\n",
    "    fig = plt.figure()\n",
    "    ax = fig.add_subplot(111, projection='3d')\n",
    "\n",
    "    ax.scatter(x, y, z_call, c='b', marker='.', label='Call Option')\n",
    "\n",
    "    plt.xticks(x, data['Expiry'], rotation=90)\n",
    "    ax.set_xlabel('Maturity Date')\n",
    "    ax.set_ylabel('Strike Price')\n",
    "    ax.set_zlabel('Option Prices')\n",
    "    ax.legend()\n",
    "\n",
    "    plt.show()\n",
    "\n",
    "    fig = plt.figure()\n",
    "    ax = fig.add_subplot(111, projection='3d')\n",
    "\n",
    "    ax.scatter(x, y, z_put, c='r', marker='.', label='Put Option')\n",
    "\n",
    "    plt.xticks(x, data['Expiry'], rotation=90)\n",
    "    ax.set_xlabel('Maturity Date')\n",
    "    ax.set_ylabel('Strike Price')\n",
    "    ax.set_zlabel('Option Prices')\n",
    "    ax.legend()\n",
    "\n",
    "    plt.show()"
   ]
  },
  {
   "cell_type": "code",
   "execution_count": 15,
   "metadata": {},
   "outputs": [],
   "source": [
    "plotPrices(plot_data)"
   ]
  },
  {
   "cell_type": "code",
   "execution_count": 16,
   "metadata": {},
   "outputs": [
    {
     "data": {
      "text/html": [
       "<h3 style=\"text-align:center;\">Maturity vs Strike Price vs Option Prices</h3>"
      ],
      "text/plain": [
       "<IPython.core.display.HTML object>"
      ]
     },
     "metadata": {},
     "output_type": "display_data"
    },
    {
     "data": {
      "text/html": [
       "<img src=\"Figure_3.png\" alt=\"Drawing\" style=\"width: 600px;\"/>"
      ],
      "text/plain": [
       "<IPython.core.display.HTML object>"
      ]
     },
     "metadata": {},
     "output_type": "display_data"
    },
    {
     "data": {
      "text/html": [
       "<img src=\"Figure_4.png\" alt=\"Drawing\" style=\"width: 600px;\"/>"
      ],
      "text/plain": [
       "<IPython.core.display.HTML object>"
      ]
     },
     "metadata": {},
     "output_type": "display_data"
    }
   ],
   "source": [
    "display(HTML('<h3 style=\"text-align:center;\">Maturity vs Strike Price vs Option Prices</h3>'))\n",
    "display(HTML('<img src=\"Figure_3.png\" alt=\"Drawing\" style=\"width: 600px;\"/>'))\n",
    "display(HTML('<img src=\"Figure_4.png\" alt=\"Drawing\" style=\"width: 600px;\"/>'))"
   ]
  },
  {
   "cell_type": "code",
   "execution_count": 17,
   "metadata": {},
   "outputs": [],
   "source": [
    "def getCall(S, K, r, t, sig):\n",
    "    d1 = (np.log(S/K)+t*(r+(sig**2)/2))/(sig*(t**0.5))\n",
    "    d2 = d1-sig*(t**0.5)\n",
    "    Nd1 = norm.cdf(d1)\n",
    "    Nd2 = norm.cdf(d2)\n",
    "    C = S*Nd1 - K*np.exp(-r*t)*Nd2\n",
    "    return C"
   ]
  },
  {
   "cell_type": "code",
   "execution_count": 18,
   "metadata": {},
   "outputs": [],
   "source": [
    "def getPut(S, K, r, t, sig):\n",
    "    d1 = (np.log(S/K)+t*(r+(sig**2)/2))/(sig*(t**0.5))\n",
    "    d2 = d1-sig*(t**0.5)\n",
    "    Nd1 = norm.cdf(-d1)\n",
    "    Nd2 = norm.cdf(-d2)\n",
    "    P = K*np.exp(-r*t)*Nd2 - S*Nd1\n",
    "    return P"
   ]
  },
  {
   "cell_type": "code",
   "execution_count": 19,
   "metadata": {},
   "outputs": [],
   "source": [
    "def f(Price, St, K, r, t, sig, option='Call'):\n",
    "    if option is 'Call':\n",
    "        return getCall(St, K, r, t, sig)-Price\n",
    "    else:\n",
    "        return getPut(St, K, r, t, sig)-Price"
   ]
  },
  {
   "cell_type": "code",
   "execution_count": 20,
   "metadata": {},
   "outputs": [],
   "source": [
    "def Secant(Price, St, K, r, t, option='Call'):\n",
    "    x0 = 0.1\n",
    "    x1 = 0.2\n",
    "    \n",
    "    tol = 0.00001\n",
    "    num = 100\n",
    "    alpha = 0.1\n",
    "    for i in range(num):\n",
    "        x2 = x1 - f(Price, St, K, r, t, x1, option)*(x1-x0)/(f(Price, St, K, r, t, x1, option)-f(Price, St, K, r, t, x0, option)+alpha)\n",
    "        x0 = x1\n",
    "        x1 = x2\n",
    "#         print(x1, f(Price, St, K, r, t, x1, option))\n",
    "        if abs(f(Price, St, K, r, t, x1, option)) < tol:\n",
    "            break\n",
    "    return x1"
   ]
  },
  {
   "cell_type": "code",
   "execution_count": 21,
   "metadata": {},
   "outputs": [],
   "source": [
    "from datetime import datetime"
   ]
  },
  {
   "cell_type": "code",
   "execution_count": 22,
   "metadata": {},
   "outputs": [
    {
     "name": "stderr",
     "output_type": "stream",
     "text": [
      "/home/epsilon/.virtualenvs/finance/lib/python3.6/site-packages/ipykernel_launcher.py:2: RuntimeWarning: overflow encountered in double_scalars\n",
      "  \n",
      "/home/epsilon/.virtualenvs/finance/lib/python3.6/site-packages/ipykernel_launcher.py:9: RuntimeWarning: overflow encountered in double_scalars\n",
      "  if __name__ == '__main__':\n",
      "/home/epsilon/.virtualenvs/finance/lib/python3.6/site-packages/ipykernel_launcher.py:2: RuntimeWarning: invalid value encountered in double_scalars\n",
      "  \n",
      "/home/epsilon/.virtualenvs/finance/lib/python3.6/site-packages/ipykernel_launcher.py:2: RuntimeWarning: divide by zero encountered in double_scalars\n",
      "  \n"
     ]
    }
   ],
   "source": [
    "num = len(data)\n",
    "sig_c = np.zeros(num)\n",
    "for i in range(num):\n",
    "    St = data.iloc[-i]['Close']\n",
    "    r = 0.05\n",
    "    init_date=data.iloc[-i]['Date']\n",
    "    exp_date=data.iloc[-i]['Expiry']\n",
    "    \n",
    "    date_format = \"%d-%b-%Y\"\n",
    "    d0 = datetime.strptime(init_date, date_format)\n",
    "    d1 = datetime.strptime(exp_date, date_format)\n",
    "    t = (d1-d0).days/252\n",
    "    K = data.iloc[-i]['Strike Price']\n",
    "    P = data.iloc[-i]['Put Price']\n",
    "    C = data.iloc[-i]['Call Price']\n",
    "    \n",
    "    sig_c[i] = Secant(C, St, K, r, t, 'Call')\n",
    "    if abs(sig_c[i]) > 10:\n",
    "        sig_c[i] = np.nan\n",
    "#     if i%50 is 0:\n",
    "#         print(str(i+1)+\"/\"+str(num))"
   ]
  },
  {
   "cell_type": "code",
   "execution_count": 23,
   "metadata": {},
   "outputs": [
    {
     "data": {
      "text/html": [
       "<div>\n",
       "<style scoped>\n",
       "    .dataframe tbody tr th:only-of-type {\n",
       "        vertical-align: middle;\n",
       "    }\n",
       "\n",
       "    .dataframe tbody tr th {\n",
       "        vertical-align: top;\n",
       "    }\n",
       "\n",
       "    .dataframe thead th {\n",
       "        text-align: right;\n",
       "    }\n",
       "</style>\n",
       "<table border=\"1\" class=\"dataframe\">\n",
       "  <thead>\n",
       "    <tr style=\"text-align: right;\">\n",
       "      <th></th>\n",
       "      <th>Symbol</th>\n",
       "      <th>Date</th>\n",
       "      <th>Expiry</th>\n",
       "      <th>Strike Price</th>\n",
       "      <th>Put Price</th>\n",
       "      <th>Call Price</th>\n",
       "      <th>Date2</th>\n",
       "      <th>Close</th>\n",
       "    </tr>\n",
       "  </thead>\n",
       "  <tbody>\n",
       "    <tr>\n",
       "      <th>13555</th>\n",
       "      <td>NIFTY</td>\n",
       "      <td>22-Jan-2014</td>\n",
       "      <td>29-Jun-2017</td>\n",
       "      <td>7700</td>\n",
       "      <td>425.05</td>\n",
       "      <td>2558.60</td>\n",
       "      <td>2014-01-22</td>\n",
       "      <td>6338.95</td>\n",
       "    </tr>\n",
       "    <tr>\n",
       "      <th>8256</th>\n",
       "      <td>NIFTY</td>\n",
       "      <td>14-Jan-2014</td>\n",
       "      <td>30-Jun-2016</td>\n",
       "      <td>4000</td>\n",
       "      <td>99.00</td>\n",
       "      <td>2612.45</td>\n",
       "      <td>2014-01-14</td>\n",
       "      <td>6241.85</td>\n",
       "    </tr>\n",
       "    <tr>\n",
       "      <th>42898</th>\n",
       "      <td>NIFTY</td>\n",
       "      <td>12-Mar-2014</td>\n",
       "      <td>28-Dec-2017</td>\n",
       "      <td>4200</td>\n",
       "      <td>0.85</td>\n",
       "      <td>3122.55</td>\n",
       "      <td>2014-03-12</td>\n",
       "      <td>6516.90</td>\n",
       "    </tr>\n",
       "    <tr>\n",
       "      <th>22185</th>\n",
       "      <td>NIFTY</td>\n",
       "      <td>05-Feb-2014</td>\n",
       "      <td>28-Dec-2017</td>\n",
       "      <td>6300</td>\n",
       "      <td>55.10</td>\n",
       "      <td>2868.90</td>\n",
       "      <td>2014-02-05</td>\n",
       "      <td>6022.40</td>\n",
       "    </tr>\n",
       "    <tr>\n",
       "      <th>18064</th>\n",
       "      <td>NIFTY</td>\n",
       "      <td>30-Jan-2014</td>\n",
       "      <td>30-Jan-2014</td>\n",
       "      <td>5500</td>\n",
       "      <td>0.05</td>\n",
       "      <td>1583.25</td>\n",
       "      <td>2014-01-30</td>\n",
       "      <td>6073.70</td>\n",
       "    </tr>\n",
       "  </tbody>\n",
       "</table>\n",
       "</div>"
      ],
      "text/plain": [
       "      Symbol         Date       Expiry  Strike Price  Put Price  Call Price  \\\n",
       "13555  NIFTY  22-Jan-2014  29-Jun-2017          7700     425.05     2558.60   \n",
       "8256   NIFTY  14-Jan-2014  30-Jun-2016          4000      99.00     2612.45   \n",
       "42898  NIFTY  12-Mar-2014  28-Dec-2017          4200       0.85     3122.55   \n",
       "22185  NIFTY  05-Feb-2014  28-Dec-2017          6300      55.10     2868.90   \n",
       "18064  NIFTY  30-Jan-2014  30-Jan-2014          5500       0.05     1583.25   \n",
       "\n",
       "           Date2    Close  \n",
       "13555 2014-01-22  6338.95  \n",
       "8256  2014-01-14  6241.85  \n",
       "42898 2014-03-12  6516.90  \n",
       "22185 2014-02-05  6022.40  \n",
       "18064 2014-01-30  6073.70  "
      ]
     },
     "execution_count": 23,
     "metadata": {},
     "output_type": "execute_result"
    }
   ],
   "source": [
    "data.head()"
   ]
  },
  {
   "cell_type": "code",
   "execution_count": 24,
   "metadata": {},
   "outputs": [],
   "source": [
    "data['Volatility']=sig_c\n",
    "data.drop(['Date2'], axis=1)\n",
    "data.to_csv('result.csv', index=False)"
   ]
  },
  {
   "cell_type": "code",
   "execution_count": 25,
   "metadata": {},
   "outputs": [],
   "source": [
    "def plotVolatility(data):\n",
    "    dates = to_datetime(data['Expiry'])\n",
    "    x = to_datetime(dates)\n",
    "    x = mdates.date2num(x)\n",
    "\n",
    "    y = data['Strike Price']\n",
    "    z = data['Volatility']\n",
    "\n",
    "    fig = plt.figure()\n",
    "    ax = fig.add_subplot(111, projection='3d')\n",
    "\n",
    "    ax.scatter(x, y, z, c='b', marker='.', label='Call Option')\n",
    "\n",
    "    plt.xticks(x, data['Expiry'], rotation=90)\n",
    "    ax.set_xlabel('Maturity Date')\n",
    "    ax.set_ylabel('Strike Price')\n",
    "    ax.set_zlabel('Volatility')\n",
    "    ax.legend()\n",
    "    plt.title('Maturity vs Strike Price vs Volatility')\n",
    "    plt.show()"
   ]
  },
  {
   "cell_type": "code",
   "execution_count": 26,
   "metadata": {},
   "outputs": [],
   "source": [
    "plotVolatility(data)"
   ]
  },
  {
   "cell_type": "code",
   "execution_count": 27,
   "metadata": {},
   "outputs": [
    {
     "data": {
      "text/html": [
       "<h3 style=\"text-align:center;\">Maturity vs Strike Price vs Volatility</h3>"
      ],
      "text/plain": [
       "<IPython.core.display.HTML object>"
      ]
     },
     "metadata": {},
     "output_type": "display_data"
    },
    {
     "data": {
      "text/html": [
       "<img src=\"Figure_1.png\" alt=\"Drawing\" style=\"width: 600px;\"/>"
      ],
      "text/plain": [
       "<IPython.core.display.HTML object>"
      ]
     },
     "metadata": {},
     "output_type": "display_data"
    },
    {
     "data": {
      "text/html": [
       "<img src=\"Figure_2.png\" alt=\"Drawing\" style=\"width: 600px;\"/>"
      ],
      "text/plain": [
       "<IPython.core.display.HTML object>"
      ]
     },
     "metadata": {},
     "output_type": "display_data"
    }
   ],
   "source": [
    "display(HTML('<h3 style=\"text-align:center;\">Maturity vs Strike Price vs Volatility</h3>'))\n",
    "display(HTML('<img src=\"Figure_1.png\" alt=\"Drawing\" style=\"width: 600px;\"/>'))\n",
    "display(HTML('<img src=\"Figure_2.png\" alt=\"Drawing\" style=\"width: 600px;\"/>'))"
   ]
  },
  {
   "cell_type": "code",
   "execution_count": null,
   "metadata": {},
   "outputs": [],
   "source": []
  }
 ],
 "metadata": {
  "kernelspec": {
   "display_name": "Python 3",
   "language": "python",
   "name": "python3"
  },
  "language_info": {
   "codemirror_mode": {
    "name": "ipython",
    "version": 3
   },
   "file_extension": ".py",
   "mimetype": "text/x-python",
   "name": "python",
   "nbconvert_exporter": "python",
   "pygments_lexer": "ipython3",
   "version": "3.6.7"
  }
 },
 "nbformat": 4,
 "nbformat_minor": 2
}
