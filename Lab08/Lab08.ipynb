{
 "cells": [
  {
   "cell_type": "code",
   "execution_count": 1,
   "metadata": {},
   "outputs": [],
   "source": [
    "import numpy as np\n",
    "from pandas import read_csv"
   ]
  },
  {
   "cell_type": "code",
   "execution_count": 2,
   "metadata": {},
   "outputs": [],
   "source": [
    "from scipy.stats import norm"
   ]
  },
  {
   "cell_type": "code",
   "execution_count": 3,
   "metadata": {},
   "outputs": [],
   "source": [
    "def getS0(name='', market='BSE', index=False):\n",
    "    fields=['Close']\n",
    "    if index:\n",
    "        data = read_csv('./Data/'+market.lower()+'data1.csv', usecols=fields, index_col=False)\n",
    "    else:\n",
    "        data = read_csv('./Data/'+market+'Data/'+name+'.csv', usecols=fields, index_col=False)\n",
    "    return data.iloc[-1]['Close']"
   ]
  },
  {
   "cell_type": "code",
   "execution_count": 12,
   "metadata": {},
   "outputs": [],
   "source": [
    "def getHistoricalVolatility(data):\n",
    "    close = np.array(data['Close'])\n",
    "    change = np.zeros(len(close)-1)\n",
    "    for i in range(1, len(close)):\n",
    "        change[i-1] = (close[i]-close[i-1])/close[i-1]*100\n",
    "    historicalVolatility = np.std(change)*(252**0.5)\n",
    "    return historicalVolatility"
   ]
  },
  {
   "cell_type": "code",
   "execution_count": 5,
   "metadata": {},
   "outputs": [],
   "source": [
    "def getCall(S, K, r, t, sig):\n",
    "    d1 = (np.log(S/K)+t*(r+(sig**2)/2))/(sig*(t**0.5))\n",
    "    d2 = d1-sig*(t**0.5)\n",
    "    Nd1 = norm.cdf(d1)\n",
    "    Nd2 = norm.cdf(d2)\n",
    "#     print(d1, Nd1, d2, Nd2)\n",
    "    C = S*Nd1 - K*np.exp(-r*t)*Nd2\n",
    "    return C"
   ]
  },
  {
   "cell_type": "code",
   "execution_count": 6,
   "metadata": {},
   "outputs": [],
   "source": [
    "def getPut(S, K, r, t, sig):\n",
    "    d1 = (np.log(S/K)+t*(r+(sig**2)/2))/(sig*(t**0.5))\n",
    "    d2 = d1-sig*(t**0.5)\n",
    "    Nd1 = norm.cdf(-d1)\n",
    "    Nd2 = norm.cdf(-d2)\n",
    "#     print(d1, Nd1, d2, Nd2)\n",
    "    P = K*np.exp(-r*t)*Nd2 - S*Nd1\n",
    "    return P"
   ]
  },
  {
   "cell_type": "code",
   "execution_count": 7,
   "metadata": {},
   "outputs": [],
   "source": [
    "stock_name=['ABB', 'AXISBANK', 'BALMLAWRIE', 'BHARTIARTL', \n",
    "          'CUMMINSIND', 'EMAMILTD', 'GODREJIND', \n",
    "          'HDFCBANK', 'HEROMOTOCO', 'HINDUNILVR', \n",
    "          'INFY', 'IOC', 'ITC', 'LUPIN', 'M&M', \n",
    "          'MAHABANK', 'NTPC', 'SBIN', 'SHREECEM', 'TCS']"
   ]
  },
  {
   "cell_type": "code",
   "execution_count": null,
   "metadata": {},
   "outputs": [],
   "source": [
    "fields=['Date', 'Open', 'Close']\n",
    "if index:\n",
    "    data = read_csv('./Data/'+market.lower()+'data1.csv', usecols=fields, index_col=False)\n",
    "else:\n",
    "    data = read_csv('./Data/'+market+'Data/'+name+'.csv', usecols=fields, index_col=False)"
   ]
  },
  {
   "cell_type": "code",
   "execution_count": null,
   "metadata": {},
   "outputs": [],
   "source": [
    "data = data.iloc[1213:]"
   ]
  },
  {
   "cell_type": "code",
   "execution_count": 8,
   "metadata": {},
   "outputs": [],
   "source": [
    "name = 'INFY'\n",
    "S0 = data.iloc[-1]['Close']\n",
    "A = np.arange(0.5, 1.6, 0.1)\n",
    "K = S0\n",
    "r = 0.05\n",
    "t = 126/252\n",
    "sig = getHistoricalVolatility(data)\n",
    "\n",
    "callPrice = np.zeros(len(A))\n",
    "putPrice = np.zeros(len(A))"
   ]
  },
  {
   "cell_type": "code",
   "execution_count": 9,
   "metadata": {},
   "outputs": [],
   "source": [
    "for i, a in enumerate(A):\n",
    "    callPrice[i] = getCall(S0, a*K, r, t, sig)\n",
    "    putPrice[i] = getPut(S0, a*K, r, t, sig)"
   ]
  },
  {
   "cell_type": "code",
   "execution_count": 10,
   "metadata": {},
   "outputs": [
    {
     "data": {
      "text/plain": [
       "array([659.85, 659.85, 659.85, 659.85, 659.85, 659.85, 659.85, 659.85,\n",
       "       659.85, 659.85, 659.85])"
      ]
     },
     "execution_count": 10,
     "metadata": {},
     "output_type": "execute_result"
    }
   ],
   "source": [
    "callPrice"
   ]
  },
  {
   "cell_type": "code",
   "execution_count": 11,
   "metadata": {},
   "outputs": [
    {
     "data": {
      "text/plain": [
       "array([321.77912273, 386.13494727, 450.49077182, 514.84659636,\n",
       "       579.20242091, 643.55824545, 707.91407   , 772.26989454,\n",
       "       836.62571909, 900.98154363, 965.33736818])"
      ]
     },
     "execution_count": 11,
     "metadata": {},
     "output_type": "execute_result"
    }
   ],
   "source": [
    "putPrice"
   ]
  },
  {
   "cell_type": "code",
   "execution_count": null,
   "metadata": {},
   "outputs": [],
   "source": []
  }
 ],
 "metadata": {
  "kernelspec": {
   "display_name": "Python 3",
   "language": "python",
   "name": "python3"
  },
  "language_info": {
   "codemirror_mode": {
    "name": "ipython",
    "version": 3
   },
   "file_extension": ".py",
   "mimetype": "text/x-python",
   "name": "python",
   "nbconvert_exporter": "python",
   "pygments_lexer": "ipython3",
   "version": "3.5.2"
  }
 },
 "nbformat": 4,
 "nbformat_minor": 2
}
